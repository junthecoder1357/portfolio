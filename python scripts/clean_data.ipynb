{
 "cells": [
  {
   "cell_type": "code",
   "execution_count": null,
   "id": "7d1d0acd",
   "metadata": {},
   "outputs": [],
   "source": [
    "import pandas as pd\n",
    "\n",
    "# Load the CSV\n",
    "df = pd.read_csv('game_goals_cleaned.csv')\n",
    "\n",
    "# Drop duplicates based on 'game_id' (keeps first occurrence by default)\n",
    "cleaned_df = df.drop_duplicates(subset=['play_id'])\n",
    "\n",
    "# Save back to the same CSV (overwrite)\n",
    "cleaned_df.to_csv('game_plays_cleaned.csv', index=False)\n",
    "\n",
    "print(f\"Removed {len(df) - len(cleaned_df)} duplicates. Saved cleaned data to game.csv\")\n"
   ]
  },
  {
   "cell_type": "code",
   "execution_count": null,
   "id": "40e594df",
   "metadata": {},
   "outputs": [],
   "source": [
    "import pandas as pd\n",
    "\n",
    "df = pd.read_csv('game_goals.csv', low_memory=False)\n",
    "\n",
    "df['emptyNet'] = df['emptyNet'].fillna('Unknown')\n",
    "df['gameWinningGoal'] = df['gameWinningGoal'].fillna('Unknown')\n",
    "df.to_csv('game_goals_cleaned.csv', index=False)\n"
   ]
  },
  {
   "cell_type": "code",
   "execution_count": null,
   "id": "9574080a",
   "metadata": {},
   "outputs": [],
   "source": []
  }
 ],
 "metadata": {
  "language_info": {
   "name": "python"
  }
 },
 "nbformat": 4,
 "nbformat_minor": 5
}
